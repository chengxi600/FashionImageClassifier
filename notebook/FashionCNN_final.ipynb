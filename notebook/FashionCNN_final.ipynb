{
  "nbformat": 4,
  "nbformat_minor": 0,
  "metadata": {
    "colab": {
      "name": "4100 Project For TA.ipynb",
      "provenance": [],
      "collapsed_sections": []
    },
    "kernelspec": {
      "name": "python3",
      "display_name": "Python 3"
    },
    "language_info": {
      "name": "python"
    }
  },
  "cells": [
    {
      "cell_type": "markdown",
      "metadata": {
        "id": "2DuBPro_5SOb"
      },
      "source": [
        "Run the following shell commands if you want to mount your Drive and change directory to Drive:"
      ]
    },
    {
      "cell_type": "code",
      "metadata": {
        "colab": {
          "base_uri": "https://localhost:8080/"
        },
        "id": "gMOgXVPpW7BY",
        "outputId": "65b718c2-dda3-4726-9ded-9d24ebfee9a9"
      },
      "source": [
        "# Mounting the google drive\n",
        "from google.colab import drive\n",
        "drive.mount('/content/gdrive')"
      ],
      "execution_count": 1,
      "outputs": [
        {
          "output_type": "stream",
          "text": [
            "Mounted at /content/gdrive\n"
          ],
          "name": "stdout"
        }
      ]
    },
    {
      "cell_type": "code",
      "metadata": {
        "colab": {
          "base_uri": "https://localhost:8080/"
        },
        "id": "aIwTZokK3UfO",
        "outputId": "cad7a993-fa9d-41a9-f4d1-6b820a1f8cba"
      },
      "source": [
        "#change your directory to Drive\n",
        "%cd /content/gdrive/MyDrive"
      ],
      "execution_count": 10,
      "outputs": [
        {
          "output_type": "stream",
          "text": [
            "/content/gdrive/MyDrive\n"
          ],
          "name": "stdout"
        }
      ]
    },
    {
      "cell_type": "markdown",
      "metadata": {
        "id": "0PYYhJ3E48Zc"
      },
      "source": [
        "Run the following cell if you want to unzip the zips in Drive:"
      ]
    },
    {
      "cell_type": "code",
      "metadata": {
        "colab": {
          "base_uri": "https://localhost:8080/"
        },
        "id": "Uy3O1gy83Y3H",
        "outputId": "00e43153-f39a-4d80-c1c4-dabbff342b20"
      },
      "source": [
        "#unzipping the zip files and deleting the zip files\n",
        "!unzip assets.zip && !unzip variables.zip && !unzip model_histories.zip && !unzip saved_files.zip && rm assets.zip && rm variables.zip && rm model_histories.zip && rm saved_files.zip"
      ],
      "execution_count": 3,
      "outputs": [
        {
          "output_type": "stream",
          "text": [
            "unzip:  cannot find or open assets.zip, assets.zip.zip or assets.zip.ZIP.\n"
          ],
          "name": "stdout"
        }
      ]
    },
    {
      "cell_type": "markdown",
      "metadata": {
        "id": "xl5xXpUx6wvN"
      },
      "source": [
        "Run all imports and functions:"
      ]
    },
    {
      "cell_type": "code",
      "metadata": {
        "id": "LreAC7OJXH6q"
      },
      "source": [
        "# Dependencies \n",
        "import numpy as np\n",
        "import pandas as pd\n",
        "import json\n",
        "import pickle\n",
        "from tensorflow import keras\n",
        "from keras.models import load_model\n",
        "from tensorflow.keras import layers\n",
        "from tensorflow.keras import callbacks\n",
        "import matplotlib.pyplot as plt\n",
        "import seaborn as sns\n",
        "from sklearn.metrics import classification_report\n",
        "from sklearn.metrics import confusion_matrix, ConfusionMatrixDisplay"
      ],
      "execution_count": 35,
      "outputs": []
    },
    {
      "cell_type": "code",
      "metadata": {
        "id": "SeCJrFB4XM4V"
      },
      "source": [
        "# Helper to load preprocess data\n",
        "def load_train_test_data(features_train, features_test, labels_train, labels_test, fashion_labels):\n",
        "  ''' Loads samples and labels of training testing data\n",
        "  Args:\n",
        "  - features_train (string): path to training samples\n",
        "  - features_test (string): path to testing samples\n",
        "  - labels_train (string): path to training sample labels\n",
        "  - labels_test (string): path to testing sample labels \n",
        "  - fashion_labels (string): path to class names \n",
        "\n",
        "  Returns:\n",
        "  - features_train (array): array of training samples\n",
        "  - features_test (array): array of testing samples\n",
        "  - labels_train (array): array of training sample labels\n",
        "  - labels_test (array): array of testing sample labels \n",
        "  - fashion_labels (array): array of class names in order of integer encoding\n",
        "  '''\n",
        "  paths = [val for key, val in locals().items()]\n",
        "  vars = []\n",
        "  #iterate through function parameters\n",
        "  for file_path in paths:\n",
        "    #opens file and parse to array\n",
        "    with open(file_path, 'rb') as f:\n",
        "      vars.append(np.load(f))\n",
        "  \n",
        "  return tuple(vars)"
      ],
      "execution_count": 5,
      "outputs": []
    },
    {
      "cell_type": "code",
      "metadata": {
        "id": "r2R7IcU6-uTB"
      },
      "source": [
        "# Helper to run the model\n",
        "def run_model(model, features_train, labels_train, epochs, batch_size, call_backs=None):\n",
        "  ''' Runs the given model with given data\n",
        "  Args:\n",
        "  - model (Model): A Keras Model \n",
        "  - features_train (Array): array of training features\n",
        "  - labels_train (Array): array of training labels \n",
        "  - epochs (int): epochs to run model for\n",
        "  - batch_size (int): samples to be run every update\n",
        "  - call_backs (array): array of Keras callbacks\n",
        "\n",
        "  Returns:\n",
        "  - model_hist (History): history of the model\n",
        "  '''\n",
        "\n",
        "  #train model\n",
        "  model.compile(loss=\"categorical_crossentropy\", optimizer=\"adam\", metrics=['accuracy'])\n",
        "  model_hist = model.fit(features_train, labels_train, epochs=epochs, \n",
        "                          batch_size=batch_size, \n",
        "                          validation_split=0.1, callbacks=call_backs)\n",
        "  \n",
        "  return model_hist"
      ],
      "execution_count": 17,
      "outputs": []
    },
    {
      "cell_type": "code",
      "metadata": {
        "id": "npSSXYdnXWk4"
      },
      "source": [
        "# visualization and evaluation of model\n",
        "\n",
        "def get_accuracy_loss(model_names, model_histories):\n",
        "  ''' Get last accuracy/loss from model histories\n",
        "  Args:\n",
        "  - model_names (array): array of model names\n",
        "  - model_histories (array): array of model history dicts\n",
        "\n",
        "  Returns:\n",
        "  - df_models (Dataframe): dataframe of final loss and accuracies of models\n",
        "\n",
        "  '''\n",
        "\n",
        "  #initalize dict\n",
        "  model_dict = {'loss': [], 'accuracy': [], 'val_loss': [], 'val_accuracy': []}\n",
        "\n",
        "  #iterate through model histories\n",
        "  for model_hist in model_histories:\n",
        "    #remove learning rate from history\n",
        "    model_hist.pop('lr', None)\n",
        "\n",
        "    #iterate through history keys\n",
        "    for key in model_hist.keys():\n",
        "      #append last value of history into dict\n",
        "      model_dict[key].append(model_hist[key][-1])\n",
        "\n",
        "  #create new dataframe from dict and set index names\n",
        "  df_models = pd.DataFrame.from_dict(model_dict).set_axis(model_names, axis='index')\n",
        "  df_models['acc diff'] = df_models['accuracy'] - df_models['val_accuracy']\n",
        "\n",
        "  return df_models\n",
        "\n",
        "def load_model_hist(file_path):\n",
        "  ''' Load model history\n",
        "  Args:\n",
        "  - file_path (string): path to model history file\n",
        "\n",
        "  Return:\n",
        "  - (History): history of model accuracy and loss\n",
        "  '''\n",
        "  with open(file_path, 'rb') as f:\n",
        "      return pickle.load(f)\n",
        "\n",
        "def plot_acc(model_names, model_histories, include_val=True, include_train=True, include_delta=False, figsize=(8,8), save_image=False, image_name=''):\n",
        "  '''Plot models acc history\n",
        "  Args:\n",
        "  - model_names (Array): array of model names\n",
        "  - model_histories (dict): dict of histories of training loss and accuracy\n",
        "  - include_val (boolean): to include validation data\n",
        "  - include_train (boolean): to include training data\n",
        "  - include_delta (boolean): to include difference between val and train at last point\n",
        "  - figsize (tuple): tuple of width and height of figure size (inches)\n",
        "  - save_image (bool): save image or not\n",
        "  - image_name (String): image file name\n",
        "\n",
        "  Returns: none\n",
        "  '''\n",
        "  fig = plt.figure(figsize=figsize, dpi=80)\n",
        "  colormap = plt.cm.get_cmap('plasma')\n",
        "\n",
        "  for index in range(len(model_histories)):\n",
        "    random_color = colormap(index/len(model_histories))\n",
        "    if include_train:\n",
        "      tr_line = plt.plot(model_histories[index]['accuracy'], label=f'{model_names[index]} acc', ls='--', lw=3.0, alpha=0.5, color=random_color)\n",
        "    if include_val:\n",
        "      val_line = plt.plot(model_histories[index]['val_accuracy'], label=f'{model_names[index]} val acc', lw=3.0, color=random_color)\n",
        "    if include_delta:\n",
        "      x = [tr_line[0].get_data()[0][-1], tr_line[0].get_data()[0][-1]]\n",
        "      y = [tr_line[0].get_data()[1][-1], val_line[0].get_data()[1][-1]]\n",
        "      plt.plot(x, y, color=random_color)\n",
        "      plt.scatter(x, y, marker='o', color=random_color)\n",
        "\n",
        "  plt.title('Training vs Accuracy of Models')\n",
        "  plt.ylabel('Accuracy')\n",
        "  plt.xlabel('Epoch')\n",
        "  plt.legend()\n",
        "\n",
        "  if save_image:\n",
        "    plt.savefig(image_name)\n",
        "  plt.show()\n",
        "\n",
        "def get_performance_report(model, features_test, labels_test, fashion_labels):\n",
        "  ''' Gets a classification report of test data. Returns precision, recall, f1-score, and support of each class\n",
        "  Args:\n",
        "  - model (Model): model to be evaluated\n",
        "  - features_test (array): array of testing data\n",
        "  - labels_test (array): array of testing data labels\n",
        "  - fashion_labels (array): array of fashion labels name in index encoded order\n",
        "\n",
        "  Returns:\n",
        "  - y_pred (Array): Array of integer encoding predictions\n",
        "  - y_true (Array): Array of integer encoding labels\n",
        "  - df_report (Dataframe): dataframe of classification report\n",
        "  - weighted_f1_score (float): f1-score weighted by support\n",
        "  '''\n",
        "  \n",
        "  #predict with testing data\n",
        "  y_pred = model.predict(features_test)\n",
        "\n",
        "  #convert model output to categorical prediction results\n",
        "  y_pred = [np.argmax(output) for output in y_pred]\n",
        "\n",
        "  #convert labels from one-hot encoding to integer encoding\n",
        "  y_true = [np.argmax(label) for label in labels_test]\n",
        "\n",
        "  #create report\n",
        "  report = classification_report(y_true, y_pred, output_dict=True)\n",
        "\n",
        "  #convert to dataframe\n",
        "  df_report = pd.DataFrame(report).transpose()\n",
        "\n",
        "  #add class name\n",
        "  df_report['class_name'] = df_report.apply(lambda row: (get_class_name(row.name, fashion_labels)), axis=1)\n",
        "  \n",
        "  #get weighted f1 score\n",
        "  weighted_f1_score = df_report.loc['weighted avg']['f1-score']\n",
        "\n",
        "  return y_pred, y_true, df_report, weighted_f1_score\n",
        "\n",
        "def plot_confusion_matrix_heatmap(y_true, y_pred, fashion_labels, figsize=(8, 8)):\n",
        "  ''' Plot confusion matrix. Heatmap density represents percentage of correct labeling.\n",
        "  Args:\n",
        "  - y_true (array): Array of integer encoding labels\n",
        "  - y_pred (array): Array of integer encoding predictions\n",
        "  - figsize (tuple): tuple of width and height of figure size (inches)\n",
        "  - fashion_labels (array): array of fashion labels name in index encoded order\n",
        "\n",
        "  Returns: None\n",
        "  '''\n",
        "  #create confusion matrix\n",
        "  cm = confusion_matrix(y_true, y_pred, normalize='true')\n",
        "\n",
        "\n",
        "  #plot matrix\n",
        "  sns.set()\n",
        "  fig, ax = plt.subplots(figsize=figsize)\n",
        "  map = sns.heatmap(cm, annot=True, cmap=\"Blues\", ax=ax, fmt='.0%', linewidths=.5, xticklabels=fashion_labels, yticklabels=fashion_labels)\n",
        "  plt.ylabel('True labels')\n",
        "  plt.xlabel('Prediction labels')\n",
        "  plt.title('Heatmap of Labels')\n",
        "\n",
        "def get_class_name(index, fashion_labels):\n",
        "  ''' Helper function to get class name for get_performance_report()\n",
        "  Args:\n",
        "  - index (String): A string that could be parsed into an integer\n",
        "  - fashion_labels (array): A list of fashion labels in order of integer encoding\n",
        "\n",
        "  Returns:\n",
        "  - (String): Either the class name of the index or 'N/A'\n",
        "\n",
        "  '''\n",
        "  if index.isnumeric():\n",
        "    return fashion_labels[int(index)]\n",
        "  else:\n",
        "    return 'N/A'"
      ],
      "execution_count": 28,
      "outputs": []
    },
    {
      "cell_type": "markdown",
      "metadata": {
        "id": "oG2Ub6ss8Dmz"
      },
      "source": [
        "Change the file paths of the folders you have:"
      ]
    },
    {
      "cell_type": "code",
      "metadata": {
        "id": "AajgHbvt3teQ"
      },
      "source": [
        "#change this to wherever ur dataset is\n",
        "\n",
        "#path of saved_files folder\n",
        "saved_path = 'saved_files/'\n",
        "\n",
        "#path of model_histories folder\n",
        "hist_path = 'model_histories/'\n",
        "\n",
        "#path to assets and variables folder\n",
        "model_path = ''\n"
      ],
      "execution_count": 40,
      "outputs": []
    },
    {
      "cell_type": "code",
      "metadata": {
        "id": "m7ekIwzqXjGh"
      },
      "source": [
        "# Loading dataset\n",
        "features_train = saved_path + 'features_train_rgb_full.npy'\n",
        "features_test = saved_path + 'features_test_rgb_full.npy'\n",
        "labels_train = saved_path + 'labels_train_rgb_full.npy'\n",
        "labels_test = saved_path + 'labels_test_rgb_full.npy'\n",
        "fashion_labels = saved_path + 'fashion_labels_8.npy'\n",
        "\n",
        "features_train, features_test, labels_train, labels_test, fashion_labels = load_train_test_data(features_train, features_test, labels_train, labels_test, fashion_labels)"
      ],
      "execution_count": 41,
      "outputs": []
    },
    {
      "cell_type": "markdown",
      "metadata": {
        "id": "VxPIFnTJ-hNy"
      },
      "source": [
        "Load the pretrained model:"
      ]
    },
    {
      "cell_type": "code",
      "metadata": {
        "id": "c-85H3RRXjuI",
        "colab": {
          "base_uri": "https://localhost:8080/"
        },
        "outputId": "3b065ac4-a17b-48d5-d11f-46b308306644"
      },
      "source": [
        "# Loading trained model\n",
        "final_model = load_model(model_path)\n",
        "final_model.summary()"
      ],
      "execution_count": 42,
      "outputs": [
        {
          "output_type": "stream",
          "text": [
            "Model: \"sequential_10\"\n",
            "_________________________________________________________________\n",
            "Layer (type)                 Output Shape              Param #   \n",
            "=================================================================\n",
            "conv2d_48 (Conv2D)           (None, 80, 60, 16)        448       \n",
            "_________________________________________________________________\n",
            "conv2d_49 (Conv2D)           (None, 80, 60, 16)        2320      \n",
            "_________________________________________________________________\n",
            "max_pooling2d_24 (MaxPooling (None, 40, 30, 16)        0         \n",
            "_________________________________________________________________\n",
            "dropout_34 (Dropout)         (None, 40, 30, 16)        0         \n",
            "_________________________________________________________________\n",
            "conv2d_50 (Conv2D)           (None, 40, 30, 32)        4640      \n",
            "_________________________________________________________________\n",
            "conv2d_51 (Conv2D)           (None, 40, 30, 32)        9248      \n",
            "_________________________________________________________________\n",
            "max_pooling2d_25 (MaxPooling (None, 20, 15, 32)        0         \n",
            "_________________________________________________________________\n",
            "dropout_35 (Dropout)         (None, 20, 15, 32)        0         \n",
            "_________________________________________________________________\n",
            "conv2d_52 (Conv2D)           (None, 20, 15, 64)        18496     \n",
            "_________________________________________________________________\n",
            "conv2d_53 (Conv2D)           (None, 20, 15, 64)        36928     \n",
            "_________________________________________________________________\n",
            "max_pooling2d_26 (MaxPooling (None, 10, 7, 64)         0         \n",
            "_________________________________________________________________\n",
            "dropout_36 (Dropout)         (None, 10, 7, 64)         0         \n",
            "_________________________________________________________________\n",
            "flatten_10 (Flatten)         (None, 4480)              0         \n",
            "_________________________________________________________________\n",
            "dense_40 (Dense)             (None, 512)               2294272   \n",
            "_________________________________________________________________\n",
            "dropout_37 (Dropout)         (None, 512)               0         \n",
            "_________________________________________________________________\n",
            "dense_41 (Dense)             (None, 512)               262656    \n",
            "_________________________________________________________________\n",
            "dropout_38 (Dropout)         (None, 512)               0         \n",
            "_________________________________________________________________\n",
            "dense_42 (Dense)             (None, 512)               262656    \n",
            "_________________________________________________________________\n",
            "dense_43 (Dense)             (None, 8)                 4104      \n",
            "=================================================================\n",
            "Total params: 2,895,768\n",
            "Trainable params: 2,895,768\n",
            "Non-trainable params: 0\n",
            "_________________________________________________________________\n"
          ],
          "name": "stdout"
        }
      ]
    },
    {
      "cell_type": "markdown",
      "metadata": {
        "id": "ayM5SN0hApff"
      },
      "source": [
        "If you want to run the model yourself (This might take 1hr+). Otherwise, skip to [here](#skip):"
      ]
    },
    {
      "cell_type": "code",
      "metadata": {
        "id": "BQhPhbA_BIxK"
      },
      "source": [
        "#Define parameters\n",
        "\n",
        "input_shape = (80, 60, 3)\n",
        "num_classes = 8\n",
        "\n",
        "epochs = 1000\n",
        "batch_size = 16\n",
        "\n",
        "# Incorporating reduced learning and early stopping for callback\n",
        "reduce_learning = callbacks.ReduceLROnPlateau(\n",
        "    monitor='val_loss',\n",
        "    factor=0.2,\n",
        "    patience=2,\n",
        "    verbose=1,\n",
        "    mode='auto',\n",
        "    min_delta=0.0001,\n",
        "    cooldown=2,\n",
        "    min_lr=0)\n",
        "\n",
        "early_stopping = callbacks.EarlyStopping(\n",
        "    monitor='val_loss',\n",
        "    min_delta=0,\n",
        "    patience=7,\n",
        "    verbose=1,\n",
        "    mode='auto')\n",
        "\n",
        "call_backs = [reduce_learning, early_stopping]"
      ],
      "execution_count": 37,
      "outputs": []
    },
    {
      "cell_type": "code",
      "metadata": {
        "id": "qxOxPmtyA37s"
      },
      "source": [
        "final_model = keras.Sequential(\n",
        "    [\n",
        "        layers.InputLayer(input_shape=input_shape),\n",
        "        layers.Conv2D(16, kernel_size=(3, 3), activation=\"relu\", padding=\"same\"),\n",
        "        layers.Conv2D(16, kernel_size=(3, 3), activation=\"relu\", padding=\"same\"),\n",
        "        layers.MaxPooling2D(pool_size=(2, 2)),\n",
        "        layers.Dropout(0.1),\n",
        "     \n",
        "        layers.Conv2D(32, kernel_size=(3, 3), activation=\"relu\", padding=\"same\"),\n",
        "        layers.Conv2D(32, kernel_size=(3, 3), activation=\"relu\", padding=\"same\"),\n",
        "        layers.MaxPooling2D(pool_size=(2, 2)),\n",
        "        layers.Dropout(0.1),\n",
        "     \n",
        "        layers.Conv2D(64, kernel_size=(3, 3), activation=\"relu\", padding=\"same\"),\n",
        "        layers.Conv2D(64, kernel_size=(3, 3), activation=\"relu\", padding=\"same\"),\n",
        "        layers.MaxPooling2D(pool_size=(2, 2)),\n",
        "        layers.Dropout(0.1),\n",
        "     \n",
        "     \n",
        "        layers.Flatten(),\n",
        "     \n",
        "        layers.Dense(512, activation=\"relu\"),\n",
        "        layers.Dropout(0.5),\n",
        "        layers.Dense(512, activation=\"relu\"),\n",
        "        layers.Dropout(0.5),\n",
        "        layers.Dense(512, activation='relu'),\n",
        "        layers.Dense(num_classes, activation=\"softmax\"),\n",
        "    ]\n",
        ")"
      ],
      "execution_count": 39,
      "outputs": []
    },
    {
      "cell_type": "code",
      "metadata": {
        "id": "LzYDE_3nAoj7"
      },
      "source": [
        "final_model_hist = run_model(final_model, features_train, labels_train, epochs, batch_size, call_backs=call_backs)"
      ],
      "execution_count": null,
      "outputs": []
    },
    {
      "cell_type": "markdown",
      "metadata": {
        "id": "LFQcPuOJ-8uh"
      },
      "source": [
        "Evaluate Model:\n",
        "<a name=\"skip\"></a>"
      ]
    },
    {
      "cell_type": "code",
      "metadata": {
        "id": "pqaWNoPSASA1"
      },
      "source": [
        "#Model names (for visualization)\n",
        "model_names = ['final_model']\n",
        "\n",
        "#Model history (Preloaded)\n",
        "model_histories = [load_model_hist(hist_path + 'exp5_10_8_5_hist.npy')]\n",
        "\n",
        "#Model history (If you ran the model yourself, uncomment the next line)\n",
        "#model_histories = [final_model_hist.history]"
      ],
      "execution_count": 43,
      "outputs": []
    },
    {
      "cell_type": "code",
      "metadata": {
        "colab": {
          "base_uri": "https://localhost:8080/",
          "height": 80
        },
        "id": "BGfHNuunAUoz",
        "outputId": "03df3c7d-31ee-4cb9-aaef-f3bf57c286db"
      },
      "source": [
        "get_accuracy_loss(model_names, model_histories)"
      ],
      "execution_count": 44,
      "outputs": [
        {
          "output_type": "execute_result",
          "data": {
            "text/html": [
              "<div>\n",
              "<style scoped>\n",
              "    .dataframe tbody tr th:only-of-type {\n",
              "        vertical-align: middle;\n",
              "    }\n",
              "\n",
              "    .dataframe tbody tr th {\n",
              "        vertical-align: top;\n",
              "    }\n",
              "\n",
              "    .dataframe thead th {\n",
              "        text-align: right;\n",
              "    }\n",
              "</style>\n",
              "<table border=\"1\" class=\"dataframe\">\n",
              "  <thead>\n",
              "    <tr style=\"text-align: right;\">\n",
              "      <th></th>\n",
              "      <th>loss</th>\n",
              "      <th>accuracy</th>\n",
              "      <th>val_loss</th>\n",
              "      <th>val_accuracy</th>\n",
              "      <th>acc diff</th>\n",
              "    </tr>\n",
              "  </thead>\n",
              "  <tbody>\n",
              "    <tr>\n",
              "      <th>final_model</th>\n",
              "      <td>0.099292</td>\n",
              "      <td>0.961331</td>\n",
              "      <td>0.246119</td>\n",
              "      <td>0.92848</td>\n",
              "      <td>0.032851</td>\n",
              "    </tr>\n",
              "  </tbody>\n",
              "</table>\n",
              "</div>"
            ],
            "text/plain": [
              "                 loss  accuracy  val_loss  val_accuracy  acc diff\n",
              "final_model  0.099292  0.961331  0.246119       0.92848  0.032851"
            ]
          },
          "metadata": {
            "tags": []
          },
          "execution_count": 44
        }
      ]
    },
    {
      "cell_type": "code",
      "metadata": {
        "colab": {
          "base_uri": "https://localhost:8080/",
          "height": 453
        },
        "id": "3p_CoEeR_Ahl",
        "outputId": "409fb6e0-8c54-4bd5-e374-e8b7175a5c96"
      },
      "source": [
        "plot_acc(model_names, model_histories, include_delta=True, figsize=(8,6))"
      ],
      "execution_count": 45,
      "outputs": [
        {
          "output_type": "display_data",
          "data": {
            "image/png": "[encoded data removed]",
            "text/plain": [
              "<Figure size 640x480 with 1 Axes>"
            ]
          },
          "metadata": {
            "tags": []
          }
        }
      ]
    },
    {
      "cell_type": "code",
      "metadata": {
        "id": "xEA5yGZVXrLE",
        "colab": {
          "base_uri": "https://localhost:8080/",
          "height": 388
        },
        "outputId": "4dd4bf1a-09aa-4eaf-d2d4-2c2e9536b58a"
      },
      "source": [
        "# Displaying performance\n",
        "y_pred, y_true, df_report, _ = get_performance_report(final_model, features_test, labels_test, fashion_labels)\n",
        "df_report"
      ],
      "execution_count": 32,
      "outputs": [
        {
          "output_type": "execute_result",
          "data": {
            "text/html": [
              "<div>\n",
              "<style scoped>\n",
              "    .dataframe tbody tr th:only-of-type {\n",
              "        vertical-align: middle;\n",
              "    }\n",
              "\n",
              "    .dataframe tbody tr th {\n",
              "        vertical-align: top;\n",
              "    }\n",
              "\n",
              "    .dataframe thead th {\n",
              "        text-align: right;\n",
              "    }\n",
              "</style>\n",
              "<table border=\"1\" class=\"dataframe\">\n",
              "  <thead>\n",
              "    <tr style=\"text-align: right;\">\n",
              "      <th></th>\n",
              "      <th>precision</th>\n",
              "      <th>recall</th>\n",
              "      <th>f1-score</th>\n",
              "      <th>support</th>\n",
              "      <th>class_name</th>\n",
              "    </tr>\n",
              "  </thead>\n",
              "  <tbody>\n",
              "    <tr>\n",
              "      <th>0</th>\n",
              "      <td>0.970464</td>\n",
              "      <td>0.931174</td>\n",
              "      <td>0.950413</td>\n",
              "      <td>247.000000</td>\n",
              "      <td>Sports Shoes</td>\n",
              "    </tr>\n",
              "    <tr>\n",
              "      <th>1</th>\n",
              "      <td>0.797980</td>\n",
              "      <td>0.858696</td>\n",
              "      <td>0.827225</td>\n",
              "      <td>184.000000</td>\n",
              "      <td>Kurtas</td>\n",
              "    </tr>\n",
              "    <tr>\n",
              "      <th>2</th>\n",
              "      <td>0.874074</td>\n",
              "      <td>0.861314</td>\n",
              "      <td>0.867647</td>\n",
              "      <td>274.000000</td>\n",
              "      <td>Tops</td>\n",
              "    </tr>\n",
              "    <tr>\n",
              "      <th>3</th>\n",
              "      <td>0.995595</td>\n",
              "      <td>1.000000</td>\n",
              "      <td>0.997792</td>\n",
              "      <td>226.000000</td>\n",
              "      <td>Handbags</td>\n",
              "    </tr>\n",
              "    <tr>\n",
              "      <th>4</th>\n",
              "      <td>0.947674</td>\n",
              "      <td>0.970238</td>\n",
              "      <td>0.958824</td>\n",
              "      <td>168.000000</td>\n",
              "      <td>Watches</td>\n",
              "    </tr>\n",
              "    <tr>\n",
              "      <th>5</th>\n",
              "      <td>0.803109</td>\n",
              "      <td>0.815789</td>\n",
              "      <td>0.809399</td>\n",
              "      <td>190.000000</td>\n",
              "      <td>Shirts</td>\n",
              "    </tr>\n",
              "    <tr>\n",
              "      <th>6</th>\n",
              "      <td>0.923372</td>\n",
              "      <td>0.892593</td>\n",
              "      <td>0.907721</td>\n",
              "      <td>270.000000</td>\n",
              "      <td>Tshirts</td>\n",
              "    </tr>\n",
              "    <tr>\n",
              "      <th>7</th>\n",
              "      <td>0.989071</td>\n",
              "      <td>0.994505</td>\n",
              "      <td>0.991781</td>\n",
              "      <td>182.000000</td>\n",
              "      <td>Casual Shoes</td>\n",
              "    </tr>\n",
              "    <tr>\n",
              "      <th>accuracy</th>\n",
              "      <td>0.913268</td>\n",
              "      <td>0.913268</td>\n",
              "      <td>0.913268</td>\n",
              "      <td>0.913268</td>\n",
              "      <td>N/A</td>\n",
              "    </tr>\n",
              "    <tr>\n",
              "      <th>macro avg</th>\n",
              "      <td>0.912667</td>\n",
              "      <td>0.915539</td>\n",
              "      <td>0.913850</td>\n",
              "      <td>1741.000000</td>\n",
              "      <td>N/A</td>\n",
              "    </tr>\n",
              "    <tr>\n",
              "      <th>weighted avg</th>\n",
              "      <td>0.914506</td>\n",
              "      <td>0.913268</td>\n",
              "      <td>0.913644</td>\n",
              "      <td>1741.000000</td>\n",
              "      <td>N/A</td>\n",
              "    </tr>\n",
              "  </tbody>\n",
              "</table>\n",
              "</div>"
            ],
            "text/plain": [
              "              precision    recall  f1-score      support    class_name\n",
              "0              0.970464  0.931174  0.950413   247.000000  Sports Shoes\n",
              "1              0.797980  0.858696  0.827225   184.000000        Kurtas\n",
              "2              0.874074  0.861314  0.867647   274.000000          Tops\n",
              "3              0.995595  1.000000  0.997792   226.000000      Handbags\n",
              "4              0.947674  0.970238  0.958824   168.000000       Watches\n",
              "5              0.803109  0.815789  0.809399   190.000000        Shirts\n",
              "6              0.923372  0.892593  0.907721   270.000000       Tshirts\n",
              "7              0.989071  0.994505  0.991781   182.000000  Casual Shoes\n",
              "accuracy       0.913268  0.913268  0.913268     0.913268           N/A\n",
              "macro avg      0.912667  0.915539  0.913850  1741.000000           N/A\n",
              "weighted avg   0.914506  0.913268  0.913644  1741.000000           N/A"
            ]
          },
          "metadata": {
            "tags": []
          },
          "execution_count": 32
        }
      ]
    },
    {
      "cell_type": "code",
      "metadata": {
        "colab": {
          "base_uri": "https://localhost:8080/",
          "height": 627
        },
        "id": "xzOHhDo-_08s",
        "outputId": "37e405c2-22b1-419d-ab95-64ddf8f05c91"
      },
      "source": [
        "plot_confusion_matrix_heatmap(y_true, y_pred, fashion_labels, figsize=(10, 10))"
      ],
      "execution_count": 33,
      "outputs": [
        {
          "output_type": "display_data",
          "data": {
            "image/png": "[encoded data removed]",
            "text/plain": [
              "<Figure size 720x720 with 2 Axes>"
            ]
          },
          "metadata": {
            "tags": []
          }
        }
      ]
    }
  ]
}